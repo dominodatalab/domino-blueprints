{
 "cells": [
  {
   "cell_type": "markdown",
   "id": "81d2faab-eb06-4017-9ab3-775b8a80e1c6",
   "metadata": {},
   "source": [
    "\n",
    "Install the libraries\n",
    "\n",
    "```\n",
    "!pip install --upgrade torch transformers accelerate\n",
    "```"
   ]
  },
  {
   "cell_type": "code",
   "execution_count": null,
   "id": "37ad905f-0c02-4f28-8035-b633f934029f",
   "metadata": {},
   "outputs": [],
   "source": [
    "!pip install --upgrade torch transformers accelerate"
   ]
  },
  {
   "cell_type": "code",
   "execution_count": null,
   "id": "bdad24f1-5798-4fac-b3bc-d19f2a16e535",
   "metadata": {},
   "outputs": [],
   "source": [
    "import os\n",
    "import shutil\n",
    "from pathlib import Path\n",
    "\n",
    "import torch\n",
    "from transformers import AutoModelForSequenceClassification, AutoModelForCausalLM, AutoTokenizer\n",
    "from utils import recreate_folder"
   ]
  },
  {
   "cell_type": "code",
   "execution_count": null,
   "id": "db0c58c9-680c-45d9-b565-d1c07fc3219b",
   "metadata": {},
   "outputs": [],
   "source": [
    "model_name = \"gpt2\"\n",
    "project_name = os.environ['DOMINO_PROJECT_NAME']\n",
    "save_path = f\"/home/ubuntu/{model_name}\"  # Set the directory to save the model\n",
    "recreate_folder(save_path)\n"
   ]
  },
  {
   "cell_type": "code",
   "execution_count": null,
   "id": "5d13fbe2-cf63-4cd5-8a77-885e7f5a88ca",
   "metadata": {},
   "outputs": [],
   "source": [
    "# Load the model and tokenizer from Hugging Face\n",
    "model = AutoModelForCausalLM.from_pretrained(model_name)\n",
    "tokenizer = AutoTokenizer.from_pretrained(model_name)\n",
    "# Save them locally\n",
    "model.save_pretrained(save_path)\n",
    "tokenizer.save_pretrained(save_path)\n",
    "\n",
    "print(f\"Model saved locally at {save_path}\")"
   ]
  },
  {
   "cell_type": "markdown",
   "id": "3b2c8b0c-ec94-4fae-8a86-91a5b1ea5673",
   "metadata": {},
   "source": [
    "## Test the downloaded model locally"
   ]
  },
  {
   "cell_type": "code",
   "execution_count": null,
   "id": "00fd4ea2-c587-44c7-8846-f9c3f6538d00",
   "metadata": {},
   "outputs": [],
   "source": [
    "from transformers import pipeline, AutoModelForCausalLM, AutoTokenizer\n",
    "import torch\n",
    "\n",
    "def load_local_llm(model_path):\n",
    "    \"\"\"Load a locally stored LLM model from disk.\"\"\"\n",
    "    #tokenizer = AutoTokenizer.from_pretrained(model_path)\n",
    "    #model = AutoModelForCausalLM.from_pretrained(model_path, torch_dtype=torch.float16, device_map=\"auto\")\n",
    "    tokenizer = AutoTokenizer.from_pretrained(model_path)\n",
    "    model = AutoModelForCausalLM.from_pretrained(model_path, \n",
    "                                             torch_dtype=torch.float16, \n",
    "                                             device_map=\"cpu\")\n",
    "\n",
    "    print(f\"{model_name} loaded in float16 on CPU\")\n",
    "    return pipeline(\"text-generation\", model=model, tokenizer=tokenizer)\n",
    "\n",
    "def generate_text(llm_pipeline, prompt, max_length=50):\n",
    "    \"\"\"Generate text using the loaded LLM.\"\"\"\n",
    "    response = llm_pipeline(prompt, max_length=max_length, do_sample=True, temperature=0.7)\n",
    "    return response[0]['generated_text']"
   ]
  },
  {
   "cell_type": "code",
   "execution_count": null,
   "id": "f4c0bc0a-d2fb-4930-963e-356c453284b0",
   "metadata": {},
   "outputs": [],
   "source": [
    "model_path = save_path  # Change this to your local model directory\n",
    "model = AutoModelForCausalLM.from_pretrained(model_path, \n",
    "                                             torch_dtype=torch.float16, \n",
    "                                             device_map=\"cpu\")\n",
    "tokenizer = AutoTokenizer.from_pretrained(model_path)\n",
    "\n",
    "# Create a text-generation pipeline\n",
    "text_generator = pipeline(\"text-generation\", model=model, tokenizer=tokenizer)\n",
    "\n",
    "# Generate text\n",
    "prompt = \"Once upon a time in a distant land,\"\n",
    "output = text_generator(prompt, max_length=50, do_sample=True)\n",
    "print(output[0]['generated_text'])"
   ]
  },
  {
   "cell_type": "code",
   "execution_count": null,
   "id": "1d627556-7621-4cd5-b214-e60aa6f84526",
   "metadata": {},
   "outputs": [],
   "source": []
  }
 ],
 "metadata": {
  "kernelspec": {
   "display_name": "Python 3 (ipykernel)",
   "language": "python",
   "name": "python3"
  },
  "language_info": {
   "codemirror_mode": {
    "name": "ipython",
    "version": 3
   },
   "file_extension": ".py",
   "mimetype": "text/x-python",
   "name": "python",
   "nbconvert_exporter": "python",
   "pygments_lexer": "ipython3",
   "version": "3.10.14"
  }
 },
 "nbformat": 4,
 "nbformat_minor": 5
}
