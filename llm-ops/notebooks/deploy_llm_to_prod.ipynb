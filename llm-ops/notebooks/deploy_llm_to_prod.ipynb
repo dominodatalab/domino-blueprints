{
 "cells": [
  {
   "cell_type": "code",
   "execution_count": null,
   "id": "a6814d3d-aea1-48da-b720-e926e8d14447",
   "metadata": {},
   "outputs": [],
   "source": [
    "import os\n",
    "import boto3\n",
    "import mlflow\n",
    "import json\n",
    "import shutil"
   ]
  },
  {
   "cell_type": "markdown",
   "id": "5aed9f8c-4818-4dc9-82b6-7b5f7e9f7ba8",
   "metadata": {},
   "source": [
    "## Verify AWS Role Assignment\n",
    "\n",
    "Only the prod-user should have permissions to read directly from the S3 bucket for DOMINO_BLOBS\n",
    "In this step verify that the role is being assumed."
   ]
  },
  {
   "cell_type": "code",
   "execution_count": null,
   "id": "c75a37de-f826-4ba2-bb72-783d1f827bed",
   "metadata": {},
   "outputs": [],
   "source": [
    "os.environ['AWS_WEB_IDENTITY_TOKEN_FILE']='/var/run/secrets/eks.amazonaws.com/serviceaccount/token'\n",
    "sts_client = boto3.client('sts')\n",
    "identity = sts_client.get_caller_identity()\n",
    "print(identity)"
   ]
  },
  {
   "cell_type": "code",
   "execution_count": null,
   "id": "27ceb951-b2cd-4f78-9af3-a3a2caa73449",
   "metadata": {},
   "outputs": [],
   "source": [
    "REGISTERED_MODEL_NAME=\"TinyLlama-MODEL\"\n",
    "REGISTERED_MODEL_VERSION=\"8\"\n"
   ]
  },
  {
   "cell_type": "code",
   "execution_count": null,
   "id": "96ed4d87-6c3a-489e-a4c0-544b11d9e9d4",
   "metadata": {},
   "outputs": [],
   "source": [
    "def get_all_model_version(registered_model_name):\n",
    "    client = mlflow.tracking.MlflowClient()\n",
    "    # List all versions for the model\n",
    "    model_versions = client.search_model_versions(f\"name='{registered_model_name}'\")\n",
    "\n",
    "    for version in model_versions:\n",
    "        print(f\"Version: {version.version}, Status: {version.status}, Stage: {version.current_stage}\")"
   ]
  },
  {
   "cell_type": "code",
   "execution_count": null,
   "id": "06bca44c-ae4a-4d00-ab92-ebe6ec1a39b3",
   "metadata": {},
   "outputs": [],
   "source": [
    "def get_parent_run_id_for_model_version(registered_model_name,registered_model_version):\n",
    "    client = mlflow.tracking.MlflowClient()\n",
    "    model_version_info = client.get_model_version(name=registered_model_name, version=registered_model_version)\n",
    "\n",
    "    # Extract the run ID associated with this version\n",
    "    run_id = model_version_info.run_id\n",
    "\n",
    "    # Build artifact path\n",
    "    artifact_relative_path = \"artifacts/model_context.json\"\n",
    "\n",
    "    # Set where you want to download\n",
    "    download_dir = \"/tmp\"\n",
    "    os.makedirs(download_dir, exist_ok=True)\n",
    "    local_path = client.download_artifacts(run_id=run_id, path=artifact_relative_path, dst_path=download_dir)\n",
    "\n",
    "    # Load JSON from a file\n",
    "    with open(local_path, 'r') as f:\n",
    "        data = json.load(f)\n",
    "\n",
    "    # Extract the run_id attribute\n",
    "    run_id = data.get('run_id')\n",
    "\n",
    "    return run_id"
   ]
  },
  {
   "cell_type": "code",
   "execution_count": null,
   "id": "7f7b295f-1cd4-4087-85c7-01aef1619e5a",
   "metadata": {},
   "outputs": [],
   "source": [
    "def download_s3_folder(bucket_name, run_id, prod_ds_folder):\n",
    "    s3 = boto3.client('s3')\n",
    "\n",
    "    # Full path where we want to download\n",
    "    target_local_folder = os.path.join(prod_ds_folder, run_id)\n",
    "\n",
    "    # Check if parent folder exists and is writable\n",
    "    if not os.path.isdir(prod_ds_folder):\n",
    "        raise Exception(f\"Base directory {prod_ds_folder} does not exist. Cannot proceed.\")\n",
    "\n",
    "    if not os.access(prod_ds_folder, os.W_OK):\n",
    "        raise Exception(f\"Base directory {prod_ds_folder} is not writable. Cannot proceed.\")\n",
    "\n",
    "    # If run_id folder already exists, delete it\n",
    "    if os.path.exists(target_local_folder):\n",
    "        shutil.rmtree(target_local_folder)\n",
    "\n",
    "    # Create clean run_id folder\n",
    "    os.makedirs(target_local_folder, exist_ok=True)\n",
    "\n",
    "    # List all objects under mlflow/{run_id}/artifacts/model/\n",
    "    prefix = f\"mlflow/{run_id}/artifacts/model/\"\n",
    "    paginator = s3.get_paginator('list_objects_v2')\n",
    "    pages = paginator.paginate(Bucket=bucket_name, Prefix=prefix)\n",
    "\n",
    "    for page in pages:\n",
    "        for obj in page.get('Contents', []):\n",
    "            key = obj['Key']\n",
    "            if key.endswith('/'):\n",
    "                continue  # Skip \"folder\" markers\n",
    "\n",
    "            # Download each file\n",
    "            relative_path = key[len(prefix):]\n",
    "            local_file_path = os.path.join(target_local_folder, relative_path)\n",
    "\n",
    "            os.makedirs(os.path.dirname(local_file_path), exist_ok=True)\n",
    "            print(f\"Downloading {key} to {local_file_path}\")\n",
    "            s3.download_file(bucket_name, key, local_file_path)"
   ]
  },
  {
   "cell_type": "markdown",
   "id": "74a03a06-b1c9-4a2b-91c1-e8b2e419ac89",
   "metadata": {},
   "source": [
    "## Fetch Model Artifacts from Experiment Manager\n",
    "\n",
    "Select you model name and model version and download the model artifacts from the `mlflow_run_id`\n",
    "associated with this model name and model version\n",
    "\n",
    "Note that we enable IRSA for this workspace and this prod deployer user has permissions to:\n",
    "\n",
    "1. List/Read Domino `BLOBS` bucket\n",
    "2. Fetch the `parent_run_id` from the `registered_model_name/registered_model_version`. The function\n",
    "   is `get_parent_run_id_for_model_version`\n",
    "   - Fetch the `mlflow_run_id` associated with this registered model version\n",
    "   - The artifact `artifacts/model_context.json` associated with this `mlflow_run_id` \n",
    "   - The `parent_run_id` is contained in this json in this attribute `run_id`\n",
    "3. Now use the function `download_s3_folder` to download artifacts from the bucket location\n",
    "   `mlflow/{run_id}/artifacts/model/` into the location `{PROD_DATASET}/llm-models/{parent_run_id}/"
   ]
  },
  {
   "cell_type": "code",
   "execution_count": null,
   "id": "56654769-4382-45b3-b78a-6f9584589327",
   "metadata": {},
   "outputs": [],
   "source": [
    "#get_all_model_version(registered_model_name)\n",
    "run_id = get_parent_run_id_for_model_version(REGISTERED_MODEL_NAME,REGISTERED_MODEL_VERSION)\n",
    "print(run_id)\n",
    "\n",
    "BUCKET_NAME=os.environ['MLFLOW_S3_BUCKET']\n",
    "LLM_ARTIFACTS_RUN_ID=get_parent_run_id_for_model_version(REGISTERED_MODEL_NAME,REGISTERED_MODEL_VERSION)\n",
    "PROD_DS_FOLDER=\"/domino/datasets/domino-models-prod/llm-models\"\n",
    "\n",
    "print(f\"BUCKET_NAME={BUCKET_NAME}, LLM_ARTIFACTS_RUN_ID={LLM_ARTIFACTS_RUN_ID}\")\n",
    "download_s3_folder(BUCKET_NAME,run_id,PROD_DS_FOLDER)"
   ]
  },
  {
   "cell_type": "code",
   "execution_count": null,
   "id": "c6b10755-ade8-4bb5-9792-0d1727bee5e0",
   "metadata": {},
   "outputs": [],
   "source": []
  }
 ],
 "metadata": {
  "kernelspec": {
   "display_name": "Python 3 (ipykernel)",
   "language": "python",
   "name": "python3"
  },
  "language_info": {
   "codemirror_mode": {
    "name": "ipython",
    "version": 3
   },
   "file_extension": ".py",
   "mimetype": "text/x-python",
   "name": "python",
   "nbconvert_exporter": "python",
   "pygments_lexer": "ipython3",
   "version": "3.10.14"
  }
 },
 "nbformat": 4,
 "nbformat_minor": 5
}
