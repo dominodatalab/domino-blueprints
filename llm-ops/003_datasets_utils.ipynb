{
 "cells": [
  {
   "cell_type": "markdown",
   "id": "eba7fd22-165c-489f-9ca8-551d4265a585",
   "metadata": {},
   "source": [
    "## The mutation being delployed looks like this\n",
    "```\n",
    "apiVersion: apps.dominodatalab.com/v1alpha1\n",
    "kind: Mutation\n",
    "metadata:\n",
    "  name: add-dataset-model\n",
    "  namespace: domino-platform\n",
    "rules:\n",
    "  - insertVolumeMounts:\n",
    "      containerSelector:\n",
    "      - model\n",
    "      volumeMounts:\n",
    "      - mountPath: <DATASET_PATH>\n",
    "        name: prediction-data-volume\n",
    "        subPath: filecache/<RESOURCE_ID>\n",
    "        readOnly: true\n",
    "    jqSelector:\n",
    "      query: |\n",
    "        include \"domsed/selectors/common\";\n",
    "        $__kind__ == \"Pod\" and\n",
    "        (.metadata.labels.\"dominodatalab.com/workload-type\" | isIn([\"ModelAPI\"])) and\n",
    "        (.metadata.labels.\"dominodatalab.com/project-id\" | isIn([\"<MODEL_PROJECT_ID>\"]))\n",
    "```\n",
    "\n",
    "There are three variables\n",
    "1. MODEL_PROJECT_ID\n",
    "2. RESOURCE_ID\n",
    "3. DATASET_PATH\n",
    "\n",
    "Get the following using the function below"
   ]
  },
  {
   "cell_type": "code",
   "execution_count": null,
   "id": "efcdefb1-6149-4b5f-9c59-d7e0652cbbfd",
   "metadata": {},
   "outputs": [],
   "source": [
    "## Fetch Datasets for a owner/project/name\n",
    "import os\n",
    "import requests\n",
    "def get_dataset(owner,project_id,ds_name):\n",
    "    api_proxy = os.environ[\"DOMINO_API_PROXY\"]\n",
    "    endpoint = \"/v4/datasetrw/datasets-v2\"\n",
    "    url = f\"{api_proxy}{endpoint}\"\n",
    "    out = requests.get(url)\n",
    "    lst = out.json()\n",
    "    for l in lst:\n",
    "        owners = l['datasetRwDto']['ownerUsernames']\n",
    "        readWriteSnapshotId = l['datasetRwDto']['readWriteSnapshotId']\n",
    "        p_id = l['datasetRwDto']['projectId']\n",
    "        name = l['datasetRwDto']['name']\n",
    "        dataset_path = l['datasetRwDto']['datasetPath']\n",
    "        if owner in owners and p_id==project_id and name==ds_name:\n",
    "            endpoint= f\"/v4/datasetrw/snapshot/{readWriteSnapshotId}\"\n",
    "            url = f\"{api_proxy}{endpoint}\"\n",
    "            out = requests.get(url)\n",
    "            resource_id = out.json()['snapshot']['resourceId']\n",
    "            sub_path = f\"filecache/{resource_id}\"\n",
    "            return {\"MODEL_PROJECT_ID\":project_id,\"RESOURCE_ID\":resource_id,\"DATASET_PATH\":dataset_path}\n",
    "    return None\n",
    "    "
   ]
  },
  {
   "cell_type": "code",
   "execution_count": null,
   "id": "a6927f22-8a66-4ca2-8edc-a1b618f011d4",
   "metadata": {},
   "outputs": [],
   "source": [
    "project_id = os.environ['DOMINO_PROJECT_ID']\n",
    "owner = \"integration-test\"\n",
    "ds_name = \"llmstore\"\n",
    "print(get_dataset(owner,project_id,ds_name))"
   ]
  },
  {
   "cell_type": "code",
   "execution_count": null,
   "id": "3a523699-d18e-4347-8610-0f9bc6fd031e",
   "metadata": {},
   "outputs": [],
   "source": []
  },
  {
   "cell_type": "code",
   "execution_count": null,
   "id": "6e99dcb3-eb55-4bcd-9a03-bd06766687c5",
   "metadata": {},
   "outputs": [],
   "source": []
  }
 ],
 "metadata": {
  "kernelspec": {
   "display_name": "Python 3 (ipykernel)",
   "language": "python",
   "name": "python3"
  },
  "language_info": {
   "codemirror_mode": {
    "name": "ipython",
    "version": 3
   },
   "file_extension": ".py",
   "mimetype": "text/x-python",
   "name": "python",
   "nbconvert_exporter": "python",
   "pygments_lexer": "ipython3",
   "version": "3.10.14"
  }
 },
 "nbformat": 4,
 "nbformat_minor": 5
}
