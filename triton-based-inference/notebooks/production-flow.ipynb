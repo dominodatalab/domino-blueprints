{
 "cells": [
  {
   "cell_type": "code",
   "execution_count": null,
   "id": "d8d6159f-2be3-40f9-ae87-2d8acc19da6b",
   "metadata": {},
   "outputs": [],
   "source": [
    "import os\n",
    "import boto3\n",
    "import mlflow\n",
    "import json\n",
    "import shutil"
   ]
  },
  {
   "cell_type": "markdown",
   "id": "a1e1f25a-55b1-4141-a218-22ea6f425db6",
   "metadata": {},
   "source": [
    "## Verify AWS Role Assignment\n",
    "Only the prod-user should have permissions to read directly from the S3 bucket for DOMINO_BLOBS In this step verify that the role is being assumed."
   ]
  },
  {
   "cell_type": "code",
   "execution_count": null,
   "id": "d7fb01f4-50ff-4bc2-8d6c-33b39f82d012",
   "metadata": {},
   "outputs": [],
   "source": [
    "os.environ['AWS_WEB_IDENTITY_TOKEN_FILE']='/var/run/secrets/eks.amazonaws.com/serviceaccount/token'\n",
    "sts_client = boto3.client('sts')\n",
    "identity = sts_client.get_caller_identity()\n",
    "AWS_ROLE_ARN = os.environ['AWS_ROLE_ARN']\n",
    "print(f\"Verify identity correctly assumed as = {AWS_ROLE_ARN}\")\n",
    "print(identity)\n",
    "\n"
   ]
  },
  {
   "cell_type": "code",
   "execution_count": null,
   "id": "578fa75f-7fb4-422f-833e-c13086cb3a9b",
   "metadata": {},
   "outputs": [],
   "source": [
    "CLIENT_REGISTERED_MODEL_NAME=\"BERT-BASED-CLIENT\"\n",
    "CLIENT_REGISTERED_MODEL_VERSION=10"
   ]
  },
  {
   "cell_type": "code",
   "execution_count": null,
   "id": "7893785d-ea52-41b7-96b3-64d83f0b7964",
   "metadata": {},
   "outputs": [],
   "source": [
    "def get_all_model_version(registered_model_name):\n",
    "    client = mlflow.tracking.MlflowClient()\n",
    "    # List all versions for the model\n",
    "    model_versions = client.search_model_versions(f\"name='{registered_model_name}'\")\n",
    "\n",
    "    for version in model_versions:\n",
    "        print(f\"Version: {version.version}, Status: {version.status}, Stage: {version.current_stage}\")\n"
   ]
  },
  {
   "cell_type": "code",
   "execution_count": null,
   "id": "64f74f2f-273a-4bdc-967d-1b53cdaec80f",
   "metadata": {},
   "outputs": [],
   "source": [
    "def get_parent_run_id_for_model_version(registered_model_name,registered_model_version):\n",
    "    client = mlflow.tracking.MlflowClient()\n",
    "    model_version_info = client.get_model_version(name=registered_model_name, version=registered_model_version)\n",
    "\n",
    "    version_info = client.get_model_version(name=registered_model_name, version=registered_model_version)\n",
    "\n",
    "    # Get run ID\n",
    "    run_id = version_info.run_id\n",
    "\n",
    "    # Get run object\n",
    "    run = client.get_run(run_id)\n",
    "    return run\n"
   ]
  },
  {
   "cell_type": "code",
   "execution_count": null,
   "id": "618b449d-6ea6-4bce-8b97-999f62cf2dc0",
   "metadata": {},
   "outputs": [],
   "source": [
    "\n",
    "\n",
    "def download_s3_folder(bucket_name, model_name,model_version,run_id, prod_ds_folder):\n",
    "    s3 = boto3.client('s3')\n",
    "\n",
    "    # Full path where we want to download\n",
    "    target_local_folder = os.path.join(prod_ds_folder, model_name, model_version)\n",
    "\n",
    "    # Check if parent folder exists and is writable\n",
    "    if not os.path.isdir(prod_ds_folder):\n",
    "        raise Exception(f\"Base directory {prod_ds_folder} does not exist. Cannot proceed.\")\n",
    "\n",
    "    if not os.access(prod_ds_folder, os.W_OK):\n",
    "        raise Exception(f\"Base directory {prod_ds_folder} is not writable. Cannot proceed.\")\n",
    "\n",
    "    # If run_id folder already exists, delete it\n",
    "    if os.path.exists(target_local_folder):\n",
    "        shutil.rmtree(target_local_folder)\n",
    "\n",
    "    # Create clean run_id folder\n",
    "    os.makedirs(target_local_folder, exist_ok=True)\n",
    "\n",
    "    # List all objects under mlflow/{run_id}/artifacts/model/\n",
    "    prefix = f\"mlflow/{run_id}/artifacts/model/\"\n",
    "    paginator = s3.get_paginator('list_objects_v2')\n",
    "    pages = paginator.paginate(Bucket=bucket_name, Prefix=prefix)\n",
    "\n",
    "    for page in pages:\n",
    "        for obj in page.get('Contents', []):\n",
    "            key = obj['Key']\n",
    "            if key.endswith('/'):\n",
    "                continue  # Skip \"folder\" markers\n",
    "\n",
    "            # Download each file\n",
    "            relative_path = key[len(prefix):]\n",
    "            local_file_path = os.path.join(target_local_folder, relative_path)\n",
    "\n",
    "            os.makedirs(os.path.dirname(local_file_path), exist_ok=True)\n",
    "            print(f\"Downloading {key} to {local_file_path}\")\n",
    "            s3.download_file(bucket_name, key, local_file_path)\n"
   ]
  },
  {
   "cell_type": "markdown",
   "id": "6d9a6cc3-1426-4034-bd0d-1cb5e7aa5f26",
   "metadata": {},
   "source": [
    "### Fetch Model Artifacts from Experiment Manager\n",
    "\n",
    "Select you model name and model version and download the model artifacts from the mlflow_run_id associated with this model name and model version\n",
    "\n",
    "Note that we enable IRSA for this workspace and this prod deployer user has permissions to:\n",
    "\n",
    "1. List/Read Domino BLOBS bucket\n",
    "2. Fetch the parent_run_id from the `registered_model_name/registered_model_version`. The function is `get_parent_run_id_for_model_version`\n",
    "- Fetch the mlflow_run_id associated with this registered model version\n",
    "- The artifact artifacts/model_context.json associated with this mlflow_run_id\n",
    "- The parent_run_id is contained in this json in this attribute run_id\n",
    "3. Now use the function download_s3_folder to download artifacts from the bucket location mlflow/{run_id}/artifacts/model/ into the location `{PROD_DATASET}/llm-models/{parent_run_id}/"
   ]
  },
  {
   "cell_type": "code",
   "execution_count": null,
   "id": "3b89eead-8b26-4f12-8af4-d417d9b29078",
   "metadata": {},
   "outputs": [],
   "source": [
    "\n",
    "#get_all_model_version(registered_model_name)\n",
    "run = get_parent_run_id_for_model_version(CLIENT_REGISTERED_MODEL_NAME,CLIENT_REGISTERED_MODEL_VERSION)\n",
    "params = run.data.params\n",
    "print(params)\n",
    "parent_run_id = params['parent_run_id']\n",
    "model_name = params['triton_model_name']\n",
    "model_version = params['triton_model_version']\n",
    "#parent_run = get_run(params['triton_model_name'],params['triton_model_version'])"
   ]
  },
  {
   "cell_type": "code",
   "execution_count": null,
   "id": "10a105b1-7a42-4d51-8f8e-10cdd547a29d",
   "metadata": {},
   "outputs": [],
   "source": [
    "\n",
    "BUCKET_NAME=os.environ['MLFLOW_S3_BUCKET']\n",
    "#LLM_ARTIFACTS_RUN_ID=get_parent_run_id_for_model_version(CLIENT_REGISTERED_MODEL_NAME,CLIENT_REGISTERED_MODEL_VERSION)\n",
    "PROD_DS_FOLDER=\"/mnt/imported/data/triton-prod-ds/models/pre-load/\"\n",
    "\n",
    "print(f\"BUCKET_NAME={BUCKET_NAME}, LLM_ARTIFACTS_RUN_ID={parent_run_id}\")\n",
    "download_s3_folder(BUCKET_NAME,model_name,model_version,parent_run_id,PROD_DS_FOLDER)\n"
   ]
  },
  {
   "cell_type": "markdown",
   "id": "e57d30f4-7869-4c11-90be-0d6034e1e78d",
   "metadata": {},
   "source": [
    "### Test TritonModel class locally but via the production inference server\n",
    "Download it from model registry\n",
    "load_context called automatically and it sees the same mount that is shared between wks and model api\n",
    "predict call will interpret the input"
   ]
  },
  {
   "cell_type": "code",
   "execution_count": null,
   "id": "e1c59cde-37d1-4af3-94d5-b20583c31e30",
   "metadata": {},
   "outputs": [],
   "source": [
    "import mlflow.pyfunc\n",
    "os.environ['MLFLOW_ENABLE_ARTIFACTS_PROGRESS_BAR']=\"true\"\n",
    "os.environ['inference-proxy-service']=\"https://inference-proxy-service.domino-inference-prod.svc.cluster.local:8443\"\n",
    "# Set model URI (update with your MLflow model registry path)\n",
    "model_uri = f\"models:/{CLIENT_REGISTERED_MODEL_NAME}/{CLIENT_REGISTERED_MODEL_VERSION}\"  # Example for a registry model\n",
    "print(model_uri)\n",
    "# model_uri = \"runs:/your_run_id/model\"  # If stored in a specific run\n",
    "# Load the MLflow model\n",
    "model = mlflow.pyfunc.load_model(model_uri)"
   ]
  },
  {
   "cell_type": "code",
   "execution_count": null,
   "id": "fa6e805d-392c-4821-849b-0bcfaf24ba55",
   "metadata": {},
   "outputs": [],
   "source": [
    "payload={  \n",
    "    \"payload\": {\n",
    "       \"inputs\": [\n",
    "            {\n",
    "                \"name\": \"input_ids\",\n",
    "                \"shape\": [1, 8],\n",
    "                \"datatype\": \"INT64\",\n",
    "                \"data\": [101, 1045, 2293, 2023, 3185, 999, 102, 0]\n",
    "            },\n",
    "            {\n",
    "                \"name\": \"attention_mask\",\n",
    "                \"shape\": [1, 8],\n",
    "                \"datatype\": \"INT64\",\n",
    "                \"data\": [1, 1, 1, 1, 1, 1, 1, 0]\n",
    "            },\n",
    "            {\n",
    "                \"name\": \"token_type_ids\",\n",
    "                \"shape\": [1, 8],\n",
    "                \"datatype\": \"INT64\",\n",
    "                \"data\": [0, 0, 0, 0, 0, 0, 0, 0]\n",
    "            }\n",
    "      ]\n",
    "    }\n",
    "    \n",
    "  }\n",
    "  \n",
    "\n"
   ]
  },
  {
   "cell_type": "code",
   "execution_count": null,
   "id": "c93d3d33-41e2-4125-a363-21ddb806287a",
   "metadata": {},
   "outputs": [],
   "source": [
    "#Give the model on the Triton side a few seconds to load\n",
    "model.predict(payload)"
   ]
  },
  {
   "cell_type": "code",
   "execution_count": null,
   "id": "4ecaea53-a053-4e8f-b6d7-2d1187271761",
   "metadata": {},
   "outputs": [],
   "source": []
  }
 ],
 "metadata": {
  "kernelspec": {
   "display_name": "Python 3 (ipykernel)",
   "language": "python",
   "name": "python3"
  },
  "language_info": {
   "codemirror_mode": {
    "name": "ipython",
    "version": 3
   },
   "file_extension": ".py",
   "mimetype": "text/x-python",
   "name": "python",
   "nbconvert_exporter": "python",
   "pygments_lexer": "ipython3",
   "version": "3.10.14"
  }
 },
 "nbformat": 4,
 "nbformat_minor": 5
}
