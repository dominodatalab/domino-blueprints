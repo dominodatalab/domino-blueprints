{
 "cells": [
  {
   "cell_type": "code",
   "execution_count": 1,
   "id": "aa0b7739-6f23-45cf-abe5-81a8c7d6658c",
   "metadata": {},
   "outputs": [],
   "source": [
    "import sys\n",
    "sys.path.append(\"/mnt/code\")\n",
    "from utils import ddl_cluster_scaling_client\n",
    "import json\n"
   ]
  },
  {
   "cell_type": "code",
   "execution_count": 2,
   "id": "de242485-c265-4d63-afbe-79fba181ebfe",
   "metadata": {},
   "outputs": [
    {
     "name": "stdout",
     "output_type": "stream",
     "text": [
      "Bearer eyJhbGciOiJSU\n"
     ]
    }
   ],
   "source": [
    "result = ddl_cluster_scaling_client.get_auth_headers()\n",
    "print(result['Authorization'][0:20])"
   ]
  },
  {
   "cell_type": "markdown",
   "id": "80565abf-db18-457c-af82-d2a2d2434fdc",
   "metadata": {},
   "source": [
    "## Define Cluster Kind\n",
    "\n",
    "For ray clusters use this section"
   ]
  },
  {
   "cell_type": "code",
   "execution_count": 3,
   "id": "25616bb9-fd3a-43da-86bf-bdafca9a24bb",
   "metadata": {},
   "outputs": [],
   "source": [
    "cluster_kind = \"rayclusters\"\n",
    "#cluster_kind = \"sparkclusters\"\n",
    "#cluster_kind = \"daskclusters\""
   ]
  },
  {
   "cell_type": "markdown",
   "id": "bdacf0a1-7525-4aa8-a2d7-7bd2f3231aaa",
   "metadata": {},
   "source": [
    "### Get the cluster status"
   ]
  },
  {
   "cell_type": "code",
   "execution_count": null,
   "id": "626dc69d-bf2c-40bf-bf80-0ce17a5ab6dd",
   "metadata": {},
   "outputs": [],
   "source": [
    "j = ddl_cluster_scaling_client.get_cluster_status(cluster_kind=cluster_kind)\n",
    "print('Cluster status')\n",
    "print(json.dumps(j['status'], indent=2, sort_keys=True, ensure_ascii=False))\n",
    "\n",
    "print('Cluster Autoscaling status')\n",
    "print(json.dumps(j['spec']['autoscaling'], indent=2, sort_keys=True, ensure_ascii=False))\n",
    "\n",
    "print('Cluster worker replicas')\n",
    "print(j['spec']['worker']['replicas'])"
   ]
  },
  {
   "cell_type": "markdown",
   "id": "370f109c-b5f0-43f8-8552-afdde12d86fc",
   "metadata": {},
   "source": [
    "### Scale the cluster up using HW tier of your choice\n",
    "\n",
    "Now scale up the cluster. You need to provide two parameters:\n",
    "1. `head_hw_tier_name` - This is optional. You use it to override the HW Tier used to start the cluster for the head node\n",
    "2. `worker_hw_tier_name` - This is optional. You use it to override the HW Tier used to start the cluster for the workers\n",
    "3. `replicas` - This is the number of desired workers. It needs to be less than the `max_workers` for this cluster or it is capped to the \n",
    "`max_workers`"
   ]
  },
  {
   "cell_type": "code",
   "execution_count": null,
   "id": "36746bee-b49a-4c52-a901-5f027fe2264c",
   "metadata": {},
   "outputs": [],
   "source": [
    "worker_hw_tier_name=\"Small\"\n",
    "#worker_hw_tier_name=\"GPU (small)\"\n",
    "\n",
    "j = ddl_cluster_scaling_client.scale_cluster(cluster_kind=cluster_kind,worker_hw_tier_name=worker_hw_tier_name, replicas=3)\n",
    "json.dumps(j, indent=2, sort_keys=True, ensure_ascii=False)\n",
    "#json.dumps(j, indent=2, sort_keys=True, ensure_ascii=False)\n",
    "print(j['restarted_ts'])\n",
    "restart_ts=j['restarted_ts']"
   ]
  },
  {
   "cell_type": "code",
   "execution_count": null,
   "id": "8f335ba7-1768-4b85-b54f-2c73213a0079",
   "metadata": {},
   "outputs": [],
   "source": [
    "ddl_cluster_scaling_client.wait_until_scaling_complete(cluster_kind=cluster_kind,scale_start_ts=restart_ts)"
   ]
  },
  {
   "cell_type": "markdown",
   "id": "0a19142c-1468-46d2-80b7-8ba64aca316b",
   "metadata": {},
   "source": [
    "### Optionally restart the head node\n",
    "\n",
    "With certain clusters (Ray) the api based scaling does not cause the head node UI to correctly reflect the number of workers even though\n",
    "the cluster utilizes all the workers. It is safe to restart the head code as a matter of hygiene. Once restarted it correctly\n",
    "reflect the correct number of workers."
   ]
  },
  {
   "cell_type": "code",
   "execution_count": null,
   "id": "a7f603bb-312a-4063-a2c7-899b79a1d3ad",
   "metadata": {},
   "outputs": [],
   "source": [
    "j = ddl_cluster_scaling_client.restart_head_node(cluster_kind=cluster_kind,head_hw_tier_name=\"Small\")\n",
    "restarts_at = j['started_at']\n",
    "print(restarts_at)"
   ]
  },
  {
   "cell_type": "code",
   "execution_count": null,
   "id": "ac1a8bb4-2fef-4058-a1e8-b00c77f65fa2",
   "metadata": {},
   "outputs": [],
   "source": [
    "ddl_cluster_scaling_client.wait_until_head_restart_complete(cluster_kind=cluster_kind,restart_ts=restarts_at)"
   ]
  },
  {
   "cell_type": "markdown",
   "id": "0160b451-bbba-4d3c-8ce1-9e616d2a7566",
   "metadata": {},
   "source": [
    "### Use the cluster\n",
    "\n",
    "Having fully scaled the cluster to your requirements, use your cluster. Run your hyper-parameter tuning, Deepspeed based LLM\n",
    "fine tuning, large Spark queries."
   ]
  },
  {
   "cell_type": "markdown",
   "id": "2df4ca74-ae2b-48e8-a1ca-2b39cf4d8aaf",
   "metadata": {},
   "source": [
    "### Scale Down Cluster\n",
    "\n",
    "Having finished your work, scale down the cluster. You need to provide two parameters:\n",
    "1. `worker_hw_tier_name` - This is optional. You use it to override the HW Tier used to scale the cluster. It is recommended. Use the smallest hw_tier permitted for this cluster type. Domino does not allow you to scale down your cluster to 0. This capability is provided so that if you have used an expensive HW tier for your worker nodes (Ex. GPU Tiers), when you scale down the cluster to 1 worker you can avoid paying for the expensive tier.\n",
    " \n",
    "2. `replicas` - This is the number of desired workers. It needs to be more than or equal to the `min_workers` for this cluster \n",
    "or it is capped to `min_workers`. Always start your cluster so that minimum workers is 1."
   ]
  },
  {
   "cell_type": "code",
   "execution_count": null,
   "id": "549cd30e-7397-4d74-aa4a-d9e10cd26425",
   "metadata": {},
   "outputs": [],
   "source": [
    "j = ddl_cluster_scaling_client.scale_cluster(cluster_kind=cluster_kind,worker_hw_tier_name=\"Medium\", replicas=1)\n",
    "json.dumps(j, indent=2, sort_keys=True, ensure_ascii=False)\n",
    "restart_ts=j['restarted_ts']"
   ]
  },
  {
   "cell_type": "code",
   "execution_count": 5,
   "id": "5e48ee7d-524b-4afa-8afe-bbd8766ac908",
   "metadata": {},
   "outputs": [
    {
     "name": "stdout",
     "output_type": "stream",
     "text": [
      "ray-68d6b04e212c1d2df121426e\n",
      "http://ddl-cluster-scaler-svc.domino-field.svc.cluster.local/ddl_cluster_scaler/restart_status/rayclusters/ray-68d6b04e212c1d2df121426e/worker\n",
      "Status code 200\n",
      "{'desired_replicas': 3, 'evaluated_with': 'statefulset_pods', 'namespace': 'domino-compute', 'node_type': 'worker', 'ok': True, 'oldestCreationTimestamp': '2025-09-26T18:23:39+00:00', 'ready_equals_running': True, 'ready_pods': 3, 'running_pods': 3, 'statefulset': 'ray-68d6b04e212c1d2df121426e-ray-worker', 'status': 'restarted_and_ready_counts_ok'}\n"
     ]
    },
    {
     "data": {
      "text/plain": [
       "True"
      ]
     },
     "execution_count": 5,
     "metadata": {},
     "output_type": "execute_result"
    }
   ],
   "source": [
    "ddl_cluster_scaling_client.wait_until_scaling_complete(cluster_kind=cluster_kind)"
   ]
  },
  {
   "cell_type": "markdown",
   "id": "6d2f1120-6eab-49a7-9970-1c934aa7ed3b",
   "metadata": {},
   "source": [
    "### Optionally restart the head node again\n",
    "\n",
    "This is a good practice in general"
   ]
  },
  {
   "cell_type": "code",
   "execution_count": null,
   "id": "c56bc92b-5b73-4609-ac43-c08c805e2535",
   "metadata": {},
   "outputs": [],
   "source": [
    "j = ddl_cluster_scaling_client.restart_head_node(cluster_kind=cluster_kind,head_hw_tier_name=\"Small\")\n",
    "restarts_at = j['started_at']\n",
    "print(restarts_at)"
   ]
  },
  {
   "cell_type": "code",
   "execution_count": null,
   "id": "5d94d772-41f4-4ca8-a4d6-2ecf7d5c54bc",
   "metadata": {},
   "outputs": [],
   "source": [
    "ddl_cluster_scaling_client.wait_until_scaling_complete(cluster_kind=cluster_kind,scale_start_ts=restart_ts)"
   ]
  },
  {
   "cell_type": "markdown",
   "id": "0fb29aad-a3eb-40f3-87ea-5db81a43330c",
   "metadata": {},
   "source": [
    "### Check current status of head and worker nodes\n"
   ]
  },
  {
   "cell_type": "code",
   "execution_count": 6,
   "id": "d8284d47-1ae2-4b40-b515-694bf6f6f496",
   "metadata": {},
   "outputs": [
    {
     "name": "stdout",
     "output_type": "stream",
     "text": [
      "2025-09-26T18:42:20Z\n"
     ]
    }
   ],
   "source": [
    "from datetime import datetime, timezone\n",
    "\n",
    "# current UTC datetime in ISO 8601 format with Zulu suffix\n",
    "current_time = datetime.now(timezone.utc).strftime(\"%Y-%m-%dT%H:%M:%SZ\")\n",
    "print(current_time)"
   ]
  },
  {
   "cell_type": "code",
   "execution_count": 8,
   "id": "4f2fb9fc-a160-47a4-9c44-418cfa3058c9",
   "metadata": {},
   "outputs": [
    {
     "name": "stdout",
     "output_type": "stream",
     "text": [
      "ray-68d6b04e212c1d2df121426e\n",
      "http://ddl-cluster-scaler-svc.domino-field.svc.cluster.local/ddl_cluster_scaler/restart_status/rayclusters/ray-68d6b04e212c1d2df121426e/worker\n",
      "Status code 200\n"
     ]
    },
    {
     "data": {
      "text/plain": [
       "{'desired_replicas': 3,\n",
       " 'evaluated_with': 'statefulset_pods',\n",
       " 'namespace': 'domino-compute',\n",
       " 'node_type': 'worker',\n",
       " 'ok': True,\n",
       " 'oldestCreationTimestamp': '2025-09-26T18:23:39+00:00',\n",
       " 'ready_equals_running': True,\n",
       " 'ready_pods': 3,\n",
       " 'running_pods': 3,\n",
       " 'statefulset': 'ray-68d6b04e212c1d2df121426e-ray-worker',\n",
       " 'status': 'restarted_and_ready_counts_ok'}"
      ]
     },
     "execution_count": 8,
     "metadata": {},
     "output_type": "execute_result"
    }
   ],
   "source": [
    "\n",
    "ddl_cluster_scaling_client.get_cluster_restart_status(cluster_kind = \"rayclusters\",node_type =\"worker\")"
   ]
  },
  {
   "cell_type": "code",
   "execution_count": null,
   "id": "81950204-a490-460f-bd56-4ebfe75b65b4",
   "metadata": {},
   "outputs": [],
   "source": [
    "ddl_cluster_scaling_client.get_cluster_restart_status(cluster_kind = \"rayclusters\",node_type =\"head\")"
   ]
  },
  {
   "cell_type": "code",
   "execution_count": null,
   "id": "38610ba3-7787-42ba-9a48-a8c39da6e494",
   "metadata": {},
   "outputs": [],
   "source": []
  }
 ],
 "metadata": {
  "kernelspec": {
   "display_name": "Python 3 (ipykernel)",
   "language": "python",
   "name": "python3"
  },
  "language_info": {
   "codemirror_mode": {
    "name": "ipython",
    "version": 3
   },
   "file_extension": ".py",
   "mimetype": "text/x-python",
   "name": "python",
   "nbconvert_exporter": "python",
   "pygments_lexer": "ipython3",
   "version": "3.10.14"
  }
 },
 "nbformat": 4,
 "nbformat_minor": 5
}
