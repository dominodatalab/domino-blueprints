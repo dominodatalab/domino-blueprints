{
 "cells": [
  {
   "cell_type": "code",
   "execution_count": 1,
   "id": "aa0b7739-6f23-45cf-abe5-81a8c7d6658c",
   "metadata": {},
   "outputs": [],
   "source": [
    "import sys\n",
    "sys.path.append(\"/mnt/code\")\n",
    "from utils import ddl_cluster_scaling_client\n",
    "import json\n"
   ]
  },
  {
   "cell_type": "code",
   "execution_count": 2,
   "id": "de242485-c265-4d63-afbe-79fba181ebfe",
   "metadata": {},
   "outputs": [
    {
     "name": "stdout",
     "output_type": "stream",
     "text": [
      "Bearer eyJhbGciOiJSU\n"
     ]
    }
   ],
   "source": [
    "result = ddl_cluster_scaling_client.get_auth_headers()\n",
    "print(result['Authorization'][0:20])"
   ]
  },
  {
   "cell_type": "markdown",
   "id": "80565abf-db18-457c-af82-d2a2d2434fdc",
   "metadata": {},
   "source": [
    "## Define Cluster Kind\n",
    "\n",
    "For ray clusters use this section"
   ]
  },
  {
   "cell_type": "code",
   "execution_count": 3,
   "id": "25616bb9-fd3a-43da-86bf-bdafca9a24bb",
   "metadata": {},
   "outputs": [],
   "source": [
    "cluster_kind = \"rayclusters\"\n",
    "#cluster_kind = \"sparkclusters\"\n",
    "#cluster_kind = \"daskclusters\""
   ]
  },
  {
   "cell_type": "markdown",
   "id": "694ad461-e076-4f9d-995f-e7110837cb3a",
   "metadata": {},
   "source": [
    "## Get Service Status"
   ]
  },
  {
   "cell_type": "code",
   "execution_count": 4,
   "id": "1e5ba208-532b-4c23-991f-454dab67db85",
   "metadata": {},
   "outputs": [
    {
     "name": "stdout",
     "output_type": "stream",
     "text": [
      "(200, {'status': 'healthy'})\n"
     ]
    }
   ],
   "source": [
    "print(ddl_cluster_scaling_client.is_cluster_auto_scaler_healthy())"
   ]
  },
  {
   "cell_type": "markdown",
   "id": "bdacf0a1-7525-4aa8-a2d7-7bd2f3231aaa",
   "metadata": {},
   "source": [
    "### Get the cluster status"
   ]
  },
  {
   "cell_type": "code",
   "execution_count": 5,
   "id": "626dc69d-bf2c-40bf-bf80-0ce17a5ab6dd",
   "metadata": {},
   "outputs": [
    {
     "name": "stdout",
     "output_type": "stream",
     "text": [
      "ray-68de956125e29f337e0136a6\n",
      "http://ddl-cluster-scaler-svc.domino-field.svc.cluster.local/ddl_cluster_scaler/cluster/rayclusters/ray-68de956125e29f337e0136a6\n",
      "Status code 200\n",
      "Cluster status\n",
      "{\n",
      "  \"clusterStatus\": \"Running\",\n",
      "  \"nodes\": [\n",
      "    \"ray-68de956125e29f337e0136a6-ray-head-0\",\n",
      "    \"ray-68de956125e29f337e0136a6-ray-worker-0\",\n",
      "    \"ray-68de956125e29f337e0136a6-ray-worker-1\",\n",
      "    \"ray-68de956125e29f337e0136a6-ray-worker-2\"\n",
      "  ],\n",
      "  \"startTime\": \"2025-10-02T15:36:24Z\",\n",
      "  \"workerReplicas\": 3,\n",
      "  \"workerSelector\": \"app.kubernetes.io/component=worker,app.kubernetes.io/instance=ray-68de956125e29f337e0136a6,app.kubernetes.io/name=ray\"\n",
      "}\n",
      "Cluster Autoscaling status\n",
      "{\n",
      "  \"maxReplicas\": 5,\n",
      "  \"minReplicas\": 3\n",
      "}\n",
      "Cluster worker replicas\n",
      "3\n"
     ]
    }
   ],
   "source": [
    "j = ddl_cluster_scaling_client.get_cluster_status(cluster_kind=cluster_kind)\n",
    "print('Cluster status')\n",
    "print(json.dumps(j['status'], indent=2, sort_keys=True, ensure_ascii=False))\n",
    "\n",
    "print('Cluster Autoscaling status')\n",
    "print(json.dumps(j['spec']['autoscaling'], indent=2, sort_keys=True, ensure_ascii=False))\n",
    "\n",
    "print('Cluster worker replicas')\n",
    "print(j['spec']['worker']['replicas'])"
   ]
  },
  {
   "cell_type": "markdown",
   "id": "370f109c-b5f0-43f8-8552-afdde12d86fc",
   "metadata": {},
   "source": [
    "### Scale the cluster up using HW tier of your choice\n",
    "\n",
    "Now scale up the cluster. You need to provide two parameters:\n",
    "1. `head_hw_tier_name` - This is optional. You use it to override the HW Tier used to start the cluster for the head node\n",
    "2. `worker_hw_tier_name` - This is optional. You use it to override the HW Tier used to start the cluster for the workers\n",
    "3. `replicas` - This is the number of desired workers. It needs to be less than the `max_workers` for this cluster or it is capped to the \n",
    "`max_workers`"
   ]
  },
  {
   "cell_type": "code",
   "execution_count": null,
   "id": "36746bee-b49a-4c52-a901-5f027fe2264c",
   "metadata": {},
   "outputs": [],
   "source": [
    "worker_hw_tier_name=\"Small\"\n",
    "#worker_hw_tier_name=\"GPU (small)\"\n",
    "\n",
    "j = ddl_cluster_scaling_client.scale_cluster(cluster_kind=cluster_kind,worker_hw_tier_name=worker_hw_tier_name, replicas=3)\n",
    "json.dumps(j, indent=2, sort_keys=True, ensure_ascii=False)\n",
    "#json.dumps(j, indent=2, sort_keys=True, ensure_ascii=False)\n",
    "#print(j['restarted_ts'])\n",
    "#restart_ts=j['restarted_ts']"
   ]
  },
  {
   "cell_type": "code",
   "execution_count": null,
   "id": "8f335ba7-1768-4b85-b54f-2c73213a0079",
   "metadata": {},
   "outputs": [],
   "source": [
    "ddl_cluster_scaling_client.wait_until_scaling_complete(cluster_kind=cluster_kind)"
   ]
  },
  {
   "cell_type": "markdown",
   "id": "0a19142c-1468-46d2-80b7-8ba64aca316b",
   "metadata": {},
   "source": [
    "### Optionally restart the head node\n",
    "\n",
    "With certain clusters (Ray) the api based scaling does not cause the head node UI to correctly reflect the number of workers even though\n",
    "the cluster utilizes all the workers. It is safe to restart the head code as a matter of hygiene. Once restarted it correctly\n",
    "reflect the correct number of workers."
   ]
  },
  {
   "cell_type": "code",
   "execution_count": null,
   "id": "a7f603bb-312a-4063-a2c7-899b79a1d3ad",
   "metadata": {},
   "outputs": [],
   "source": [
    "j = ddl_cluster_scaling_client.restart_head_node(cluster_kind=cluster_kind,head_hw_tier_name=\"Small\")\n",
    "print(j)"
   ]
  },
  {
   "cell_type": "code",
   "execution_count": null,
   "id": "ac1a8bb4-2fef-4058-a1e8-b00c77f65fa2",
   "metadata": {},
   "outputs": [],
   "source": [
    "ddl_cluster_scaling_client.wait_until_head_restart_complete(cluster_kind=cluster_kind)"
   ]
  },
  {
   "cell_type": "markdown",
   "id": "0160b451-bbba-4d3c-8ce1-9e616d2a7566",
   "metadata": {},
   "source": [
    "### Use the cluster\n",
    "\n",
    "Having fully scaled the cluster to your requirements, use your cluster. Run your hyper-parameter tuning, Deepspeed based LLM\n",
    "fine tuning, large Spark queries."
   ]
  },
  {
   "cell_type": "markdown",
   "id": "2df4ca74-ae2b-48e8-a1ca-2b39cf4d8aaf",
   "metadata": {},
   "source": [
    "### Scale Down Cluster\n",
    "\n",
    "Having finished your work, scale down the cluster. You need to provide two parameters:\n",
    "1. `worker_hw_tier_name` - This is optional. You use it to override the HW Tier used to scale the cluster. It is recommended. Use the smallest hw_tier permitted for this cluster type. Domino does not allow you to scale down your cluster to 0. This capability is provided so that if you have used an expensive HW tier for your worker nodes (Ex. GPU Tiers), when you scale down the cluster to 1 worker you can avoid paying for the expensive tier.\n",
    " \n",
    "2. `replicas` - This is the number of desired workers. It needs to be more than or equal to the `min_workers` for this cluster \n",
    "or it is capped to `min_workers`. Always start your cluster so that minimum workers is 1."
   ]
  },
  {
   "cell_type": "code",
   "execution_count": 6,
   "id": "549cd30e-7397-4d74-aa4a-d9e10cd26425",
   "metadata": {},
   "outputs": [
    {
     "name": "stdout",
     "output_type": "stream",
     "text": [
      "1\n",
      "Status code 200\n"
     ]
    },
    {
     "data": {
      "text/plain": [
       "'{\\n  \"capped\": false,\\n  \"effective_replicas\": 1,\\n  \"kind\": \"rayclusters\",\\n  \"maxReplicas\": 5,\\n  \"name\": \"ray-68de956125e29f337e0136a6\",\\n  \"object\": {\\n    \"apiVersion\": \"distributed-compute.dominodatalab.com/v1alpha1\",\\n    \"kind\": \"RayCluster\",\\n    \"metadata\": {\\n      \"creationTimestamp\": \"2025-10-02T15:08:20Z\",\\n      \"finalizers\": [\\n        \"distributed-compute.dominodatalab.com/finalizer\"\\n      ],\\n      \"generation\": 3,\\n      \"labels\": {\\n        \"app.kubernetes.io/instance\": \"ray-68de956125e29f337e0136a6\",\\n        \"app.kubernetes.io/name\": \"raycluster\",\\n        \"dominodatalab.com/billing-tag\": \"navy\",\\n        \"dominodatalab.com/execution-id\": \"68de956125e29f337e0136a6\",\\n        \"dominodatalab.com/project-id\": \"68b08bbfdc77613e66e6364e\",\\n        \"dominodatalab.com/project-name\": \"ddl-end-to-end-demo\",\\n        \"dominodatalab.com/project-owner-id\": \"68ac9b59ea374e2b81c48d75\",\\n        \"dominodatalab.com/project-owner-username\": \"wadkars\",\\n        \"dominodatalab.com/starting-user-id\": \"68ac9b59ea374e2b81c48d75\",\\n        \"dominodatalab.com/starting-user-username\": \"wadkars\",\\n        \"dominodatalab.com/workload-engine\": \"cg2\",\\n        \"dominodatalab.com/workload-id\": \"68de956125e29f337e0136a6\",\\n        \"dominodatalab.com/workload-type\": \"Workspace\"\\n      },\\n      \"managedFields\": [\\n        {\\n          \"apiVersion\": \"distributed-compute.dominodatalab.com/v1alpha1\",\\n          \"fieldsType\": \"FieldsV1\",\\n          \"fieldsV1\": {\\n            \"f:metadata\": {\\n              \"f:labels\": {\\n                \".\": {},\\n                \"f:app.kubernetes.io/instance\": {},\\n                \"f:app.kubernetes.io/name\": {},\\n                \"f:dominodatalab.com/billing-tag\": {},\\n                \"f:dominodatalab.com/execution-id\": {},\\n                \"f:dominodatalab.com/project-id\": {},\\n                \"f:dominodatalab.com/project-name\": {},\\n                \"f:dominodatalab.com/project-owner-id\": {},\\n                \"f:dominodatalab.com/project-owner-username\": {},\\n                \"f:dominodatalab.com/starting-user-id\": {},\\n                \"f:dominodatalab.com/starting-user-username\": {},\\n                \"f:dominodatalab.com/workload-engine\": {},\\n                \"f:dominodatalab.com/workload-id\": {},\\n                \"f:dominodatalab.com/workload-type\": {}\\n              }\\n            },\\n            \"f:spec\": {\\n              \".\": {},\\n              \"f:additionalClientPorts\": {},\\n              \"f:autoscaling\": {\\n                \".\": {},\\n                \"f:maxReplicas\": {}\\n              },\\n              \"f:envVars\": {},\\n              \"f:globalLabels\": {\\n                \".\": {},\\n                \"f:dominodatalab.com/billing-tag\": {},\\n                \"f:dominodatalab.com/execution-id\": {},\\n                \"f:dominodatalab.com/project-id\": {},\\n                \"f:dominodatalab.com/project-name\": {},\\n                \"f:dominodatalab.com/project-owner-id\": {},\\n                \"f:dominodatalab.com/project-owner-username\": {},\\n                \"f:dominodatalab.com/starting-user-id\": {},\\n                \"f:dominodatalab.com/starting-user-username\": {},\\n                \"f:dominodatalab.com/workload-engine\": {},\\n                \"f:dominodatalab.com/workload-id\": {},\\n                \"f:dominodatalab.com/workload-type\": {}\\n              },\\n              \"f:head\": {\\n                \".\": {},\\n                \"f:annotations\": {\\n                  \".\": {},\\n                  \"f:cluster-autoscaler.kubernetes.io/safe-to-evict\": {}\\n                },\\n                \"f:labels\": {\\n                  \".\": {},\\n                  \"f:datasource-proxy-client\": {},\\n                  \"f:dominodatalab.com/billing-tag\": {},\\n                  \"f:dominodatalab.com/execution-id\": {},\\n                  \"f:dominodatalab.com/hardware-tier-id\": {},\\n                  \"f:dominodatalab.com/project-id\": {},\\n                  \"f:dominodatalab.com/project-name\": {},\\n                  \"f:dominodatalab.com/project-owner-id\": {},\\n                  \"f:dominodatalab.com/project-owner-username\": {},\\n                  \"f:dominodatalab.com/starting-user-id\": {},\\n                  \"f:dominodatalab.com/starting-user-username\": {},\\n                  \"f:dominodatalab.com/workload-engine\": {},\\n                  \"f:dominodatalab.com/workload-id\": {},\\n                  \"f:dominodatalab.com/workload-type\": {},\\n                  \"f:nucleus-client\": {}\\n                },\\n                \"f:nodeSelector\": {\\n                  \".\": {},\\n                  \"f:dominodatalab.com/node-pool\": {}\\n                },\\n                \"f:resources\": {\\n                  \".\": {},\\n                  \"f:limits\": {\\n                    \".\": {},\\n                    \"f:cpu\": {},\\n                    \"f:memory\": {}\\n                  },\\n                  \"f:requests\": {\\n                    \".\": {},\\n                    \"f:cpu\": {},\\n                    \"f:memory\": {}\\n                  }\\n                },\\n                \"f:volumeMounts\": {},\\n                \"f:volumes\": {}\\n              },\\n              \"f:image\": {\\n                \".\": {},\\n                \"f:pullPolicy\": {},\\n                \"f:registry\": {},\\n                \"f:repository\": {},\\n                \"f:tag\": {}\\n              },\\n              \"f:imagePullSecrets\": {},\\n              \"f:networkPolicy\": {\\n                \".\": {},\\n                \"f:clientLabels\": {\\n                  \".\": {},\\n                  \"f:ray-driver\": {}\\n                },\\n                \"f:dashboardLabels\": {\\n                  \".\": {},\\n                  \"f:ray-head-ui-client\": {}\\n                },\\n                \"f:dashboardNamespaceLabels\": {\\n                  \".\": {},\\n                  \"f:domino-platform\": {}\\n                },\\n                \"f:enabled\": {}\\n              },\\n              \"f:podSecurityContext\": {\\n                \".\": {},\\n                \"f:fsGroup\": {},\\n                \"f:runAsNonRoot\": {},\\n                \"f:runAsUser\": {},\\n                \"f:seLinuxOptions\": {\\n                  \".\": {},\\n                  \"f:type\": {}\\n                }\\n              },\\n              \"f:serviceAccount\": {\\n                \".\": {},\\n                \"f:name\": {}\\n              },\\n              \"f:worker\": {\\n                \".\": {},\\n                \"f:annotations\": {\\n                  \".\": {},\\n                  \"f:cluster-autoscaler.kubernetes.io/safe-to-evict\": {}\\n                },\\n                \"f:labels\": {\\n                  \".\": {},\\n                  \"f:datasource-proxy-client\": {},\\n                  \"f:dominodatalab.com/billing-tag\": {},\\n                  \"f:dominodatalab.com/execution-id\": {},\\n                  \"f:dominodatalab.com/hardware-tier-id\": {},\\n                  \"f:dominodatalab.com/project-id\": {},\\n                  \"f:dominodatalab.com/project-name\": {},\\n                  \"f:dominodatalab.com/project-owner-id\": {},\\n                  \"f:dominodatalab.com/project-owner-username\": {},\\n                  \"f:dominodatalab.com/starting-user-id\": {},\\n                  \"f:dominodatalab.com/starting-user-username\": {},\\n                  \"f:dominodatalab.com/workload-engine\": {},\\n                  \"f:dominodatalab.com/workload-id\": {},\\n                  \"f:dominodatalab.com/workload-type\": {},\\n                  \"f:nucleus-client\": {}\\n                },\\n                \"f:nodeSelector\": {\\n                  \".\": {},\\n                  \"f:dominodatalab.com/node-pool\": {}\\n                },\\n                \"f:resources\": {\\n                  \".\": {},\\n                  \"f:limits\": {\\n                    \".\": {},\\n                    \"f:cpu\": {},\\n                    \"f:memory\": {}\\n                  },\\n                  \"f:requests\": {\\n                    \".\": {},\\n                    \"f:cpu\": {},\\n                    \"f:memory\": {}\\n                  }\\n                },\\n                \"f:volumeMounts\": {},\\n                \"f:volumes\": {}\\n              },\\n              \"f:workerPorts\": {}\\n            }\\n          },\\n          \"manager\": \"Kubernetes Java Client\",\\n          \"operation\": \"Update\",\\n          \"time\": \"2025-10-02T15:08:20Z\"\\n        },\\n        {\\n          \"apiVersion\": \"distributed-compute.dominodatalab.com/v1alpha1\",\\n          \"fieldsType\": \"FieldsV1\",\\n          \"fieldsV1\": {\\n            \"f:metadata\": {\\n              \"f:finalizers\": {\\n                \".\": {},\\n                \"v:\\\\\"distributed-compute.dominodatalab.com/finalizer\\\\\"\": {}\\n              }\\n            }\\n          },\\n          \"manager\": \"manager\",\\n          \"operation\": \"Update\",\\n          \"time\": \"2025-10-02T15:08:20Z\"\\n        },\\n        {\\n          \"apiVersion\": \"distributed-compute.dominodatalab.com/v1alpha1\",\\n          \"fieldsType\": \"FieldsV1\",\\n          \"fieldsV1\": {\\n            \"f:status\": {\\n              \".\": {},\\n              \"f:clusterStatus\": {},\\n              \"f:nodes\": {},\\n              \"f:startTime\": {},\\n              \"f:workerReplicas\": {},\\n              \"f:workerSelector\": {}\\n            }\\n          },\\n          \"manager\": \"manager\",\\n          \"operation\": \"Update\",\\n          \"subresource\": \"status\",\\n          \"time\": \"2025-10-02T15:36:24Z\"\\n        },\\n        {\\n          \"apiVersion\": \"distributed-compute.dominodatalab.com/v1alpha1\",\\n          \"fieldsType\": \"FieldsV1\",\\n          \"fieldsV1\": {\\n            \"f:spec\": {\\n              \"f:autoscaling\": {\\n                \"f:minReplicas\": {}\\n              },\\n              \"f:worker\": {\\n                \"f:replicas\": {},\\n                \"f:resources\": {\\n                  \"f:limits\": {\\n                    \"f:nvidia.com/gpu\": {}\\n                  },\\n                  \"f:requests\": {\\n                    \"f:nvidia.com/gpu\": {}\\n                  }\\n                }\\n              }\\n            }\\n          },\\n          \"manager\": \"OpenAPI-Generator\",\\n          \"operation\": \"Update\",\\n          \"time\": \"2025-10-02T15:54:19Z\"\\n        }\\n      ],\\n      \"name\": \"ray-68de956125e29f337e0136a6\",\\n      \"namespace\": \"domino-compute\",\\n      \"resourceVersion\": \"103483970\",\\n      \"uid\": \"e4108908-8693-4821-aa59-5025d9b31eb1\"\\n    },\\n    \"spec\": {\\n      \"additionalClientPorts\": [\\n        {\\n          \"appProtocol\": \"TCP\",\\n          \"name\": \"http-api-proxy\",\\n          \"port\": 8899,\\n          \"protocol\": \"TCP\",\\n          \"targetPort\": 8899\\n        },\\n        {\\n          \"appProtocol\": \"TCP\",\\n          \"name\": \"http-mlflow-proxy\",\\n          \"port\": 8765,\\n          \"protocol\": \"TCP\",\\n          \"targetPort\": 8765\\n        }\\n      ],\\n      \"autoscaling\": {\\n        \"maxReplicas\": 5,\\n        \"minReplicas\": 1\\n      },\\n      \"clientServerPort\": 10001,\\n      \"dashboardPort\": 8265,\\n      \"enableDashboard\": true,\\n      \"envVars\": [\\n        {\\n          \"name\": \"DOMINO_USER_HOST\",\\n          \"value\": \"https://marcdo77364.cs.domino.tech\"\\n        },\\n        {\\n          \"name\": \"DOMINO_DATASOURCE_PROXY_HOST\",\\n          \"value\": \"http://datasource-proxy.domino-platform:80\"\\n        },\\n        {\\n          \"name\": \"DOMINO_DATASOURCE_PROXY_FLIGHT_HOST\",\\n          \"value\": \"grpc://datasource-proxy.domino-platform:8080\"\\n        },\\n        {\\n          \"name\": \"DOMINO_API_PROXY\",\\n          \"value\": \"http://ray-68de956125e29f337e0136a6-ray-proxy:8899\"\\n        },\\n        {\\n          \"name\": \"DOMINO_DATA_API_GATEWAY\",\\n          \"value\": \"http://ray-68de956125e29f337e0136a6-ray-proxy:8766\"\\n        },\\n        {\\n          \"name\": \"DOMINO_MLFLOW_DEPLOYMENTS\",\\n          \"value\": \"http://ray-68de956125e29f337e0136a6-ray-proxy:8767\"\\n        },\\n        {\\n          \"name\": \"MLFLOW_TRACKING_URI\",\\n          \"value\": \"http://ray-68de956125e29f337e0136a6-ray-proxy:8765\"\\n        },\\n        {\\n          \"name\": \"DOMINO_IS_WORKFLOW_JOB\",\\n          \"value\": \"false\"\\n        }\\n      ],\\n      \"gcsServerPort\": 2386,\\n      \"globalLabels\": {\\n        \"dominodatalab.com/billing-tag\": \"navy\",\\n        \"dominodatalab.com/execution-id\": \"68de956125e29f337e0136a6\",\\n        \"dominodatalab.com/project-id\": \"68b08bbfdc77613e66e6364e\",\\n        \"dominodatalab.com/project-name\": \"ddl-end-to-end-demo\",\\n        \"dominodatalab.com/project-owner-id\": \"68ac9b59ea374e2b81c48d75\",\\n        \"dominodatalab.com/project-owner-username\": \"wadkars\",\\n        \"dominodatalab.com/starting-user-id\": \"68ac9b59ea374e2b81c48d75\",\\n        \"dominodatalab.com/starting-user-username\": \"wadkars\",\\n        \"dominodatalab.com/workload-engine\": \"cg2\",\\n        \"dominodatalab.com/workload-id\": \"68de956125e29f337e0136a6\",\\n        \"dominodatalab.com/workload-type\": \"Workspace\"\\n      },\\n      \"head\": {\\n        \"annotations\": {\\n          \"cluster-autoscaler.kubernetes.io/safe-to-evict\": \"false\"\\n        },\\n        \"labels\": {\\n          \"datasource-proxy-client\": \"true\",\\n          \"dominodatalab.com/billing-tag\": \"navy\",\\n          \"dominodatalab.com/execution-id\": \"68de956125e29f337e0136a6\",\\n          \"dominodatalab.com/hardware-tier-id\": \"small-k8s\",\\n          \"dominodatalab.com/project-id\": \"68b08bbfdc77613e66e6364e\",\\n          \"dominodatalab.com/project-name\": \"ddl-end-to-end-demo\",\\n          \"dominodatalab.com/project-owner-id\": \"68ac9b59ea374e2b81c48d75\",\\n          \"dominodatalab.com/project-owner-username\": \"wadkars\",\\n          \"dominodatalab.com/starting-user-id\": \"68ac9b59ea374e2b81c48d75\",\\n          \"dominodatalab.com/starting-user-username\": \"wadkars\",\\n          \"dominodatalab.com/workload-engine\": \"cg2\",\\n          \"dominodatalab.com/workload-id\": \"68de956125e29f337e0136a6\",\\n          \"dominodatalab.com/workload-type\": \"Workspace\",\\n          \"nucleus-client\": \"true\"\\n        },\\n        \"nodeSelector\": {\\n          \"dominodatalab.com/node-pool\": \"default\"\\n        },\\n        \"resources\": {\\n          \"limits\": {\\n            \"cpu\": \"1\",\\n            \"memory\": \"4Gi\"\\n          },\\n          \"requests\": {\\n            \"cpu\": \"1\",\\n            \"memory\": \"4Gi\"\\n          }\\n        },\\n        \"volumeMounts\": [\\n          {\\n            \"mountPath\": \"/mnt/data/prediction_data\",\\n            \"name\": \"domino-shared-store-domino-compute-vol\",\\n            \"subPath\": \"filecache/4c238ab5-22ce-4fd5-88ea-75a5a1c06bc4\"\\n          },\\n          {\\n            \"mountPath\": \"/mnt/data/ddl-end-to-end-demo\",\\n            \"name\": \"domino-shared-store-domino-compute-vol\",\\n            \"subPath\": \"filecache/7024dbd7-dfa8-4d6f-b267-97c7acbea82b\"\\n          },\\n          {\\n            \"mountPath\": \"/var/opt/domino/trainingset/project\",\\n            \"name\": \"domino-shared-store-domino-compute-vol\",\\n            \"subPath\": \"trainingset/68b08bbfdc77613e66e6364e\"\\n          }\\n        ],\\n        \"volumes\": [\\n          {\\n            \"name\": \"domino-shared-store-domino-compute-vol\",\\n            \"persistentVolumeClaim\": {\\n              \"claimName\": \"domino-shared-store-domino-compute\"\\n            }\\n          }\\n        ]\\n      },\\n      \"image\": {\\n        \"pullPolicy\": \"IfNotPresent\",\\n        \"registry\": \"946429944765.dkr.ecr.us-west-2.amazonaws.com\",\\n        \"repository\": \"marcdo77364/environment\",\\n        \"tag\": \"68b0bbbb11a90f7af0400c97-10\"\\n      },\\n      \"imagePullSecrets\": [\\n        {\\n          \"name\": \"domino-registry\"\\n        },\\n        {\\n          \"name\": \"domino-quay-repos\"\\n        }\\n      ],\\n      \"networkPolicy\": {\\n        \"clientLabels\": {\\n          \"ray-driver\": \"ray-68de956125e29f337e0136a6\"\\n        },\\n        \"dashboardLabels\": {\\n          \"ray-head-ui-client\": \"true\"\\n        },\\n        \"dashboardNamespaceLabels\": {\\n          \"domino-platform\": \"true\"\\n        },\\n        \"enabled\": true\\n      },\\n      \"nodeManagerPort\": 2385,\\n      \"objectManagerPort\": 2384,\\n      \"podSecurityContext\": {\\n        \"fsGroup\": 12574,\\n        \"runAsNonRoot\": true,\\n        \"runAsUser\": 12574,\\n        \"seLinuxOptions\": {\\n          \"type\": \"spc_t\"\\n        }\\n      },\\n      \"port\": 6379,\\n      \"redisShardPorts\": [\\n        6380,\\n        6381\\n      ],\\n      \"serviceAccount\": {\\n        \"name\": \"wadkars\"\\n      },\\n      \"worker\": {\\n        \"annotations\": {\\n          \"cluster-autoscaler.kubernetes.io/safe-to-evict\": \"false\"\\n        },\\n        \"labels\": {\\n          \"datasource-proxy-client\": \"true\",\\n          \"dominodatalab.com/billing-tag\": \"navy\",\\n          \"dominodatalab.com/execution-id\": \"68de956125e29f337e0136a6\",\\n          \"dominodatalab.com/hardware-tier-id\": \"small-k8s\",\\n          \"dominodatalab.com/project-id\": \"68b08bbfdc77613e66e6364e\",\\n          \"dominodatalab.com/project-name\": \"ddl-end-to-end-demo\",\\n          \"dominodatalab.com/project-owner-id\": \"68ac9b59ea374e2b81c48d75\",\\n          \"dominodatalab.com/project-owner-username\": \"wadkars\",\\n          \"dominodatalab.com/starting-user-id\": \"68ac9b59ea374e2b81c48d75\",\\n          \"dominodatalab.com/starting-user-username\": \"wadkars\",\\n          \"dominodatalab.com/workload-engine\": \"cg2\",\\n          \"dominodatalab.com/workload-id\": \"68de956125e29f337e0136a6\",\\n          \"dominodatalab.com/workload-type\": \"Workspace\",\\n          \"nucleus-client\": \"true\"\\n        },\\n        \"nodeSelector\": {\\n          \"dominodatalab.com/node-pool\": \"default\"\\n        },\\n        \"replicas\": 1,\\n        \"resources\": {\\n          \"limits\": {\\n            \"cpu\": \"1\",\\n            \"memory\": \"4Gi\",\\n            \"nvidia.com/gpu\": \"0\"\\n          },\\n          \"requests\": {\\n            \"cpu\": \"1\",\\n            \"memory\": \"4Gi\",\\n            \"nvidia.com/gpu\": \"0\"\\n          }\\n        },\\n        \"volumeMounts\": [\\n          {\\n            \"mountPath\": \"/mnt/data/prediction_data\",\\n            \"name\": \"domino-shared-store-domino-compute-vol\",\\n            \"subPath\": \"filecache/4c238ab5-22ce-4fd5-88ea-75a5a1c06bc4\"\\n          },\\n          {\\n            \"mountPath\": \"/mnt/data/ddl-end-to-end-demo\",\\n            \"name\": \"domino-shared-store-domino-compute-vol\",\\n            \"subPath\": \"filecache/7024dbd7-dfa8-4d6f-b267-97c7acbea82b\"\\n          },\\n          {\\n            \"mountPath\": \"/var/opt/domino/trainingset/project\",\\n            \"name\": \"domino-shared-store-domino-compute-vol\",\\n            \"subPath\": \"trainingset/68b08bbfdc77613e66e6364e\"\\n          }\\n        ],\\n        \"volumes\": [\\n          {\\n            \"name\": \"domino-shared-store-domino-compute-vol\",\\n            \"persistentVolumeClaim\": {\\n              \"claimName\": \"domino-shared-store-domino-compute\"\\n            }\\n          }\\n        ]\\n      },\\n      \"workerPorts\": [\\n        11000,\\n        11001,\\n        11002,\\n        11003,\\n        11004,\\n        11005,\\n        11006,\\n        11007,\\n        11008,\\n        11009,\\n        11010,\\n        11011,\\n        11012,\\n        11013,\\n        11014,\\n        11015,\\n        11016,\\n        11017,\\n        11018,\\n        11019,\\n        11020,\\n        11021,\\n        11022,\\n        11023,\\n        11024,\\n        11025,\\n        11026,\\n        11027,\\n        11028,\\n        11029,\\n        11030,\\n        11031,\\n        11032,\\n        11033,\\n        11034,\\n        11035,\\n        11036,\\n        11037,\\n        11038,\\n        11039,\\n        11040,\\n        11041,\\n        11042,\\n        11043,\\n        11044,\\n        11045,\\n        11046,\\n        11047,\\n        11048,\\n        11049,\\n        11050,\\n        11051,\\n        11052,\\n        11053,\\n        11054,\\n        11055,\\n        11056,\\n        11057,\\n        11058,\\n        11059,\\n        11060,\\n        11061,\\n        11062,\\n        11063,\\n        11064,\\n        11065,\\n        11066,\\n        11067,\\n        11068,\\n        11069,\\n        11070,\\n        11071,\\n        11072,\\n        11073,\\n        11074,\\n        11075,\\n        11076,\\n        11077,\\n        11078,\\n        11079,\\n        11080,\\n        11081,\\n        11082,\\n        11083,\\n        11084,\\n        11085,\\n        11086,\\n        11087,\\n        11088,\\n        11089,\\n        11090,\\n        11091,\\n        11092,\\n        11093,\\n        11094,\\n        11095,\\n        11096,\\n        11097,\\n        11098,\\n        11099\\n      ]\\n    },\\n    \"status\": {\\n      \"clusterStatus\": \"Running\",\\n      \"nodes\": [\\n        \"ray-68de956125e29f337e0136a6-ray-head-0\",\\n        \"ray-68de956125e29f337e0136a6-ray-worker-0\",\\n        \"ray-68de956125e29f337e0136a6-ray-worker-1\",\\n        \"ray-68de956125e29f337e0136a6-ray-worker-2\"\\n      ],\\n      \"startTime\": \"2025-10-02T15:36:24Z\",\\n      \"workerReplicas\": 3,\\n      \"workerSelector\": \"app.kubernetes.io/component=worker,app.kubernetes.io/instance=ray-68de956125e29f337e0136a6,app.kubernetes.io/name=ray\"\\n    }\\n  },\\n  \"requested_replicas\": 1,\\n  \"restarted_ts\": \"2025-10-02T15:54:19Z\",\\n  \"worker_hw_tier_name\": \"Small\"\\n}'"
      ]
     },
     "execution_count": 6,
     "metadata": {},
     "output_type": "execute_result"
    }
   ],
   "source": [
    "j = ddl_cluster_scaling_client.scale_cluster(cluster_kind=cluster_kind,worker_hw_tier_name=\"Small\", replicas=1)\n",
    "json.dumps(j, indent=2, sort_keys=True, ensure_ascii=False)\n"
   ]
  },
  {
   "cell_type": "code",
   "execution_count": 7,
   "id": "5e48ee7d-524b-4afa-8afe-bbd8766ac908",
   "metadata": {},
   "outputs": [
    {
     "name": "stdout",
     "output_type": "stream",
     "text": [
      "Waiting 10 seconds to give the cluster some time to scale before we start polling\n",
      "ray-68de956125e29f337e0136a6\n",
      "http://ddl-cluster-scaler-svc.domino-field.svc.cluster.local/ddl_cluster_scaler/restart_status/rayclusters/ray-68de956125e29f337e0136a6/worker\n",
      "Status code 200\n",
      "{'desired_replicas': 1, 'evaluated_with': 'statefulset_pods', 'namespace': 'domino-compute', 'node_type': 'worker', 'ok': True, 'oldestCreationTimestamp': '2025-10-02T15:35:26+00:00', 'ready_equals_running': True, 'ready_pods': 1, 'running_pods': 1, 'statefulset': 'ray-68de956125e29f337e0136a6-ray-worker', 'status': 'restarted_and_ready_counts_ok'}\n"
     ]
    },
    {
     "data": {
      "text/plain": [
       "True"
      ]
     },
     "execution_count": 7,
     "metadata": {},
     "output_type": "execute_result"
    }
   ],
   "source": [
    "ddl_cluster_scaling_client.wait_until_scaling_complete(cluster_kind=cluster_kind)"
   ]
  },
  {
   "cell_type": "markdown",
   "id": "6d2f1120-6eab-49a7-9970-1c934aa7ed3b",
   "metadata": {},
   "source": [
    "### Optionally restart the head node again\n",
    "\n",
    "This is a good practice in general"
   ]
  },
  {
   "cell_type": "code",
   "execution_count": 9,
   "id": "c56bc92b-5b73-4609-ac43-c08c805e2535",
   "metadata": {},
   "outputs": [
    {
     "name": "stdout",
     "output_type": "stream",
     "text": [
      "Status code 200\n"
     ]
    }
   ],
   "source": [
    "j = ddl_cluster_scaling_client.restart_head_node(cluster_kind=cluster_kind,head_hw_tier_name=\"Small\")"
   ]
  },
  {
   "cell_type": "code",
   "execution_count": 11,
   "id": "5d94d772-41f4-4ca8-a4d6-2ecf7d5c54bc",
   "metadata": {},
   "outputs": [
    {
     "name": "stdout",
     "output_type": "stream",
     "text": [
      "Waiting 10 seconds to give the cluster some time to scale before we start polling\n",
      "ray-68de956125e29f337e0136a6\n",
      "http://ddl-cluster-scaler-svc.domino-field.svc.cluster.local/ddl_cluster_scaler/restart_status/rayclusters/ray-68de956125e29f337e0136a6/worker\n",
      "Status code 200\n",
      "{'desired_replicas': 1, 'evaluated_with': 'statefulset_pods', 'namespace': 'domino-compute', 'node_type': 'worker', 'ok': True, 'oldestCreationTimestamp': '2025-10-02T15:35:26+00:00', 'ready_equals_running': True, 'ready_pods': 1, 'running_pods': 1, 'statefulset': 'ray-68de956125e29f337e0136a6-ray-worker', 'status': 'restarted_and_ready_counts_ok'}\n"
     ]
    },
    {
     "data": {
      "text/plain": [
       "True"
      ]
     },
     "execution_count": 11,
     "metadata": {},
     "output_type": "execute_result"
    }
   ],
   "source": [
    "ddl_cluster_scaling_client.wait_until_scaling_complete(cluster_kind=cluster_kind)"
   ]
  },
  {
   "cell_type": "markdown",
   "id": "0fb29aad-a3eb-40f3-87ea-5db81a43330c",
   "metadata": {},
   "source": [
    "### Check current status of head and worker nodes\n"
   ]
  },
  {
   "cell_type": "code",
   "execution_count": 12,
   "id": "d8284d47-1ae2-4b40-b515-694bf6f6f496",
   "metadata": {},
   "outputs": [
    {
     "name": "stdout",
     "output_type": "stream",
     "text": [
      "2025-10-02T15:58:16Z\n"
     ]
    }
   ],
   "source": [
    "from datetime import datetime, timezone\n",
    "\n",
    "# current UTC datetime in ISO 8601 format with Zulu suffix\n",
    "current_time = datetime.now(timezone.utc).strftime(\"%Y-%m-%dT%H:%M:%SZ\")\n",
    "print(current_time)"
   ]
  },
  {
   "cell_type": "code",
   "execution_count": 13,
   "id": "4f2fb9fc-a160-47a4-9c44-418cfa3058c9",
   "metadata": {},
   "outputs": [
    {
     "name": "stdout",
     "output_type": "stream",
     "text": [
      "ray-68de956125e29f337e0136a6\n",
      "http://ddl-cluster-scaler-svc.domino-field.svc.cluster.local/ddl_cluster_scaler/restart_status/rayclusters/ray-68de956125e29f337e0136a6/worker\n",
      "Status code 200\n"
     ]
    },
    {
     "data": {
      "text/plain": [
       "{'desired_replicas': 1,\n",
       " 'evaluated_with': 'statefulset_pods',\n",
       " 'namespace': 'domino-compute',\n",
       " 'node_type': 'worker',\n",
       " 'ok': True,\n",
       " 'oldestCreationTimestamp': '2025-10-02T15:35:26+00:00',\n",
       " 'ready_equals_running': True,\n",
       " 'ready_pods': 1,\n",
       " 'running_pods': 1,\n",
       " 'statefulset': 'ray-68de956125e29f337e0136a6-ray-worker',\n",
       " 'status': 'restarted_and_ready_counts_ok'}"
      ]
     },
     "execution_count": 13,
     "metadata": {},
     "output_type": "execute_result"
    }
   ],
   "source": [
    "\n",
    "ddl_cluster_scaling_client.get_cluster_restart_status(cluster_kind = \"rayclusters\",node_type =\"worker\")"
   ]
  },
  {
   "cell_type": "code",
   "execution_count": 14,
   "id": "81950204-a490-460f-bd56-4ebfe75b65b4",
   "metadata": {},
   "outputs": [
    {
     "name": "stdout",
     "output_type": "stream",
     "text": [
      "ray-68de956125e29f337e0136a6\n",
      "http://ddl-cluster-scaler-svc.domino-field.svc.cluster.local/ddl_cluster_scaler/restart_status/rayclusters/ray-68de956125e29f337e0136a6/head\n",
      "Status code 200\n"
     ]
    },
    {
     "data": {
      "text/plain": [
       "{'desired_replicas': 1,\n",
       " 'evaluated_with': 'statefulset_pods',\n",
       " 'namespace': 'domino-compute',\n",
       " 'node_type': 'head',\n",
       " 'ok': True,\n",
       " 'oldestCreationTimestamp': '2025-10-02T15:58:03+00:00',\n",
       " 'ready_equals_running': True,\n",
       " 'ready_pods': 1,\n",
       " 'running_pods': 1,\n",
       " 'statefulset': 'ray-68de956125e29f337e0136a6-ray-head',\n",
       " 'status': 'restarted_and_ready_counts_ok'}"
      ]
     },
     "execution_count": 14,
     "metadata": {},
     "output_type": "execute_result"
    }
   ],
   "source": [
    "ddl_cluster_scaling_client.get_cluster_restart_status(cluster_kind = \"rayclusters\",node_type =\"head\")"
   ]
  },
  {
   "cell_type": "code",
   "execution_count": null,
   "id": "38610ba3-7787-42ba-9a48-a8c39da6e494",
   "metadata": {},
   "outputs": [],
   "source": []
  }
 ],
 "metadata": {
  "kernelspec": {
   "display_name": "Python 3 (ipykernel)",
   "language": "python",
   "name": "python3"
  },
  "language_info": {
   "codemirror_mode": {
    "name": "ipython",
    "version": 3
   },
   "file_extension": ".py",
   "mimetype": "text/x-python",
   "name": "python",
   "nbconvert_exporter": "python",
   "pygments_lexer": "ipython3",
   "version": "3.10.14"
  }
 },
 "nbformat": 4,
 "nbformat_minor": 5
}
